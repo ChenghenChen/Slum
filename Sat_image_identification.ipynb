{
  "nbformat": 4,
  "nbformat_minor": 0,
  "metadata": {
    "colab": {
      "provenance": [],
      "authorship_tag": "ABX9TyPAKthkOppyEiUDAej56Q/6",
      "include_colab_link": true
    },
    "kernelspec": {
      "name": "python3",
      "display_name": "Python 3"
    },
    "language_info": {
      "name": "python"
    }
  },
  "cells": [
    {
      "cell_type": "markdown",
      "metadata": {
        "id": "view-in-github",
        "colab_type": "text"
      },
      "source": [
        "<a href=\"https://colab.research.google.com/github/ChenghenChen/Slum/blob/main/Sat_image_identification.ipynb\" target=\"_parent\"><img src=\"https://colab.research.google.com/assets/colab-badge.svg\" alt=\"Open In Colab\"/></a>"
      ]
    },
    {
      "cell_type": "code",
      "source": [
        "import cv2\n",
        "import numpy as np\n",
        "from segmentation_models import Unet  # 假設使用 Unet 模型，您也可以根據需要選擇其他模型\n",
        "from segmentation_models import get_preprocessing\n",
        "\n",
        "# 定義函式來使用 Segment Anything 進行圖像分割\n",
        "def segment_image(image):\n",
        "    # 加載預訓練的模型\n",
        "    model = Unet('resnet34', classes=3, activation='softmax')\n",
        "    model.load_weights('path_to_segmentation_model_weights.h5')  # 指定模型權重的路徑\n",
        "\n",
        "    # 預處理圖像\n",
        "    preprocessing_fn = get_preprocessing('resnet34')\n",
        "    image = preprocessing_fn(image)\n",
        "\n",
        "    # 進行圖像分割\n",
        "    segmented_image = model.predict(image[np.newaxis, ...])\n",
        "\n",
        "    return segmented_image\n",
        "\n",
        "# 定義函式來檢測房屋輪廓並計算面積\n",
        "def detect_and_measure_houses(image):\n",
        "    # 將圖片轉換為灰度圖\n",
        "    gray = cv2.cvtColor(image, cv2.COLOR_BGR2GRAY)\n",
        "\n",
        "    # 二值化處理\n",
        "    ret, thresh = cv2.threshold(gray, 127, 255, 0)\n",
        "\n",
        "    # 查找輪廓\n",
        "    contours, _ = cv2.findContours(thresh, cv2.RETR_EXTERNAL, cv2.CHAIN_APPROX_SIMPLE)\n",
        "\n",
        "    # 創建一個列表來存儲房屋的面積\n",
        "    house_areas = []\n",
        "\n",
        "    # 遍歷每個輪廓\n",
        "    for contour in contours:\n",
        "        # 計算輪廓的面積\n",
        "        area = cv2.contourArea(contour)\n",
        "        # 如果面積太小，可能不是房屋，忽略\n",
        "        if area < 100:\n",
        "            continue\n",
        "        # 將房屋的面積添加到列表中\n",
        "        house_areas.append(area)\n",
        "\n",
        "    return house_areas\n",
        "\n",
        "# 讀取衛星照片\n",
        "image_path = '/content/satellite_image/1212.jpg'\n",
        "image = cv2.imread(image_path)\n",
        "\n",
        "# 使用 Segment Anything 進行圖像分割\n",
        "segmented_image = segment_image(image)\n",
        "\n",
        "# 檢測房屋輪廓並計算面積\n",
        "house_areas = detect_and_measure_houses(image)\n",
        "\n",
        "# 分類房屋\n",
        "small_houses = sum(1 for area in house_areas if area < 100)  # 假設小房屋的面積小於100平方米\n",
        "medium_houses = sum(1 for area in house_areas if 100 <= area < 200)  # 假設中房屋的面積介於100至200平方米之間\n",
        "large_houses = sum(1 for area in house_areas if area >= 200)  # 假設大房屋的面積大於等於200平方米\n",
        "\n",
        "# 顯示結果\n",
        "print(\"小房屋數量:\", small_houses)\n",
        "print(\"中房屋數量:\", medium_houses)\n",
        "print(\"大房屋數量:\", large_houses)\n"
      ],
      "metadata": {
        "colab": {
          "base_uri": "https://localhost:8080/",
          "height": 385
        },
        "id": "SCJrWPI8_GqT",
        "outputId": "452ac3e4-e33f-4b0e-d440-afff0954a68f"
      },
      "execution_count": 17,
      "outputs": [
        {
          "output_type": "error",
          "ename": "ModuleNotFoundError",
          "evalue": "No module named 'segmentation_models'",
          "traceback": [
            "\u001b[0;31m---------------------------------------------------------------------------\u001b[0m",
            "\u001b[0;31mModuleNotFoundError\u001b[0m                       Traceback (most recent call last)",
            "\u001b[0;32m<ipython-input-17-df95e7df0ab0>\u001b[0m in \u001b[0;36m<cell line: 3>\u001b[0;34m()\u001b[0m\n\u001b[1;32m      1\u001b[0m \u001b[0;32mimport\u001b[0m \u001b[0mcv2\u001b[0m\u001b[0;34m\u001b[0m\u001b[0;34m\u001b[0m\u001b[0m\n\u001b[1;32m      2\u001b[0m \u001b[0;32mimport\u001b[0m \u001b[0mnumpy\u001b[0m \u001b[0;32mas\u001b[0m \u001b[0mnp\u001b[0m\u001b[0;34m\u001b[0m\u001b[0;34m\u001b[0m\u001b[0m\n\u001b[0;32m----> 3\u001b[0;31m \u001b[0;32mfrom\u001b[0m \u001b[0msegmentation_models\u001b[0m \u001b[0;32mimport\u001b[0m \u001b[0mUnet\u001b[0m  \u001b[0;31m# 假設使用 Unet 模型，您也可以根據需要選擇其他模型\u001b[0m\u001b[0;34m\u001b[0m\u001b[0;34m\u001b[0m\u001b[0m\n\u001b[0m\u001b[1;32m      4\u001b[0m \u001b[0;32mfrom\u001b[0m \u001b[0msegmentation_models\u001b[0m \u001b[0;32mimport\u001b[0m \u001b[0mget_preprocessing\u001b[0m\u001b[0;34m\u001b[0m\u001b[0;34m\u001b[0m\u001b[0m\n\u001b[1;32m      5\u001b[0m \u001b[0;34m\u001b[0m\u001b[0m\n",
            "\u001b[0;31mModuleNotFoundError\u001b[0m: No module named 'segmentation_models'",
            "",
            "\u001b[0;31m---------------------------------------------------------------------------\u001b[0;32m\nNOTE: If your import is failing due to a missing package, you can\nmanually install dependencies using either !pip or !apt.\n\nTo view examples of installing some common dependencies, click the\n\"Open Examples\" button below.\n\u001b[0;31m---------------------------------------------------------------------------\u001b[0m\n"
          ],
          "errorDetails": {
            "actions": [
              {
                "action": "open_url",
                "actionText": "Open Examples",
                "url": "/notebooks/snippets/importing_libraries.ipynb"
              }
            ]
          }
        }
      ]
    }
  ]
}