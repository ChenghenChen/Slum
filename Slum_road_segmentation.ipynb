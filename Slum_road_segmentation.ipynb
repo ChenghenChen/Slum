{
  "nbformat": 4,
  "nbformat_minor": 0,
  "metadata": {
    "colab": {
      "provenance": [],
      "authorship_tag": "ABX9TyPHVYuUzg0wOuyz1yqfN4KB",
      "include_colab_link": true
    },
    "kernelspec": {
      "name": "python3",
      "display_name": "Python 3"
    },
    "language_info": {
      "name": "python"
    }
  },
  "cells": [
    {
      "cell_type": "markdown",
      "metadata": {
        "id": "view-in-github",
        "colab_type": "text"
      },
      "source": [
        "<a href=\"https://colab.research.google.com/github/ChenghenChen/Slum/blob/main/Slum_road_segmentation.ipynb\" target=\"_parent\"><img src=\"https://colab.research.google.com/assets/colab-badge.svg\" alt=\"Open In Colab\"/></a>"
      ]
    },
    {
      "cell_type": "code",
      "execution_count": 2,
      "metadata": {
        "colab": {
          "base_uri": "https://localhost:8080/"
        },
        "id": "9vY_TQukbj0x",
        "outputId": "cec7151c-9036-4da1-ef25-539fcaa636e3"
      },
      "outputs": [
        {
          "output_type": "stream",
          "name": "stdout",
          "text": [
            "Cloning into 'your_repository'...\n",
            "fatal: could not read Username for 'https://github.com': No such device or address\n"
          ]
        }
      ],
      "source": [
        "# Step 1: Clone the GitHub repository into Colab\n",
        "!git clone https://github.com/ChenghenChen/your_repository.git"
      ]
    },
    {
      "cell_type": "code",
      "source": [
        "# Step 2: Import necessary libraries\n",
        "import leafmap\n",
        "import geemap"
      ],
      "metadata": {
        "colab": {
          "base_uri": "https://localhost:8080/",
          "height": 350
        },
        "id": "BRuIMLBReI9B",
        "outputId": "12500392-b61a-4315-8cbb-bdf3d6fedb3a"
      },
      "execution_count": 3,
      "outputs": [
        {
          "output_type": "error",
          "ename": "ModuleNotFoundError",
          "evalue": "No module named 'leafmap'",
          "traceback": [
            "\u001b[0;31m---------------------------------------------------------------------------\u001b[0m",
            "\u001b[0;31mModuleNotFoundError\u001b[0m                       Traceback (most recent call last)",
            "\u001b[0;32m<ipython-input-3-f79c0241c755>\u001b[0m in \u001b[0;36m<cell line: 2>\u001b[0;34m()\u001b[0m\n\u001b[1;32m      1\u001b[0m \u001b[0;31m# Step 2: Import necessary libraries\u001b[0m\u001b[0;34m\u001b[0m\u001b[0;34m\u001b[0m\u001b[0m\n\u001b[0;32m----> 2\u001b[0;31m \u001b[0;32mimport\u001b[0m \u001b[0mleafmap\u001b[0m\u001b[0;34m\u001b[0m\u001b[0;34m\u001b[0m\u001b[0m\n\u001b[0m\u001b[1;32m      3\u001b[0m \u001b[0;32mimport\u001b[0m \u001b[0mgeemap\u001b[0m\u001b[0;34m\u001b[0m\u001b[0;34m\u001b[0m\u001b[0m\n",
            "\u001b[0;31mModuleNotFoundError\u001b[0m: No module named 'leafmap'",
            "",
            "\u001b[0;31m---------------------------------------------------------------------------\u001b[0;32m\nNOTE: If your import is failing due to a missing package, you can\nmanually install dependencies using either !pip or !apt.\n\nTo view examples of installing some common dependencies, click the\n\"Open Examples\" button below.\n\u001b[0;31m---------------------------------------------------------------------------\u001b[0m\n"
          ],
          "errorDetails": {
            "actions": [
              {
                "action": "open_url",
                "actionText": "Open Examples",
                "url": "/notebooks/snippets/importing_libraries.ipynb"
              }
            ]
          }
        }
      ]
    },
    {
      "cell_type": "code",
      "source": [
        "# Step 3: Create an interactive map\n",
        "Map = leafmap.Map()\n"
      ],
      "metadata": {
        "id": "Xj7zjBzreMDp"
      },
      "execution_count": null,
      "outputs": []
    },
    {
      "cell_type": "code",
      "source": [
        "# Step 4: Load slum boundary data\n",
        "slum_boundary = geemap.geojson_to_ee('slum_boundary.geojson')\n"
      ],
      "metadata": {
        "id": "z1RwKJkNf9fa"
      },
      "execution_count": null,
      "outputs": []
    },
    {
      "cell_type": "code",
      "source": [
        "# Step 5: Add slum boundary to the map\n",
        "Map.addLayer(slum_boundary, {'color': 'red'}, 'Slum Boundary')\n"
      ],
      "metadata": {
        "id": "hwUkXXFif_Qf"
      },
      "execution_count": null,
      "outputs": []
    },
    {
      "cell_type": "code",
      "source": [
        "# Step 6: Load road data\n",
        "roads = geemap.geojson_to_ee('roads.geojson')\n"
      ],
      "metadata": {
        "id": "wu-yKlzof_4w"
      },
      "execution_count": null,
      "outputs": []
    },
    {
      "cell_type": "code",
      "source": [
        "# Step 7: Add roads to the map\n",
        "Map.addLayer(roads, {'color': 'blue'}, 'Roads')\n"
      ],
      "metadata": {
        "id": "O5kkc2sEgUiL"
      },
      "execution_count": null,
      "outputs": []
    },
    {
      "cell_type": "code",
      "source": [
        "# Step 8: Clip roads within slum boundary\n",
        "roads_inside_slum = roads.filterBounds(slum_boundary)\n"
      ],
      "metadata": {
        "id": "DabwrEf9gVlW"
      },
      "execution_count": null,
      "outputs": []
    },
    {
      "cell_type": "code",
      "source": [
        "# Step 9: Add clipped roads to the map\n",
        "Map.addLayer(roads_inside_slum, {'color': 'green'}, 'Roads Inside Slum')\n"
      ],
      "metadata": {
        "id": "cQSHD5__gW4X"
      },
      "execution_count": null,
      "outputs": []
    },
    {
      "cell_type": "code",
      "source": [
        "# Step 10: Display the map\n",
        "Map.centerObject(slum_boundary, 12)\n",
        "Map.addLayerControl()\n",
        "Map\n"
      ],
      "metadata": {
        "id": "VhQYAYaPgX6_"
      },
      "execution_count": null,
      "outputs": []
    }
  ]
}